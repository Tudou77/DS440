{
  "nbformat": 4,
  "nbformat_minor": 0,
  "metadata": {
    "colab": {
      "name": "base_model.ipynb",
      "provenance": [],
      "authorship_tag": "ABX9TyPbLttfN6M5HD5lQkBmgjvu",
      "include_colab_link": true
    },
    "kernelspec": {
      "name": "python3",
      "display_name": "Python 3"
    },
    "language_info": {
      "name": "python"
    }
  },
  "cells": [
    {
      "cell_type": "markdown",
      "metadata": {
        "id": "view-in-github",
        "colab_type": "text"
      },
      "source": [
        "<a href=\"https://colab.research.google.com/github/Tudou77/DS440/blob/main/base_model.ipynb\" target=\"_parent\"><img src=\"https://colab.research.google.com/assets/colab-badge.svg\" alt=\"Open In Colab\"/></a>"
      ]
    },
    {
      "cell_type": "markdown",
      "source": [
        "## load data"
      ],
      "metadata": {
        "id": "UlnxmfPR-9A5"
      }
    },
    {
      "cell_type": "code",
      "execution_count": null,
      "metadata": {
        "id": "-aZJUgzf41Uj"
      },
      "outputs": [],
      "source": [
        "import requests\n",
        "import pandas as pd\n",
        "from io import StringIO\n",
        "from sklearn import linear_model\n",
        "from sklearn.metrics import mean_squared_error, r2_score\n",
        "from math import sqrt\n",
        "from sklearn.metrics import mean_absolute_error\n",
        "from sklearn.preprocessing import LabelEncoder\n",
        "from sklearn.preprocessing import StandardScaler\n",
        "from sklearn.metrics import confusion_matrix\n",
        "from sklearn.metrics import classification_report\n",
        "from matplotlib.pyplot import figure\n",
        "\n",
        "from sklearn.ensemble import RandomForestClassifier\n",
        "url=\"https://drive.google.com/file/d/1gVK-eB8V7t4G6Osp90BgLTNRI5EhsI10/view?usp=sharing\""
      ]
    },
    {
      "cell_type": "code",
      "source": [
        "file_id = url.split('/')[-2]\n",
        "dwn_url='https://drive.google.com/uc?export=download&id=' + file_id\n",
        "url2 = requests.get(dwn_url).text\n",
        "csv_raw = StringIO(url2)\n",
        "df = pd.read_csv(csv_raw)\n",
        "df.head()"
      ],
      "metadata": {
        "colab": {
          "base_uri": "https://localhost:8080/",
          "height": 403
        },
        "id": "_4LsmSki5lGw",
        "outputId": "0e8d9eb8-2c16-4c57-8215-fe61ecb6faa9"
      },
      "execution_count": null,
      "outputs": [
        {
          "output_type": "stream",
          "name": "stderr",
          "text": [
            "/usr/local/lib/python3.7/dist-packages/IPython/core/interactiveshell.py:2882: DtypeWarning: Columns (0,4,5) have mixed types.Specify dtype option on import or set low_memory=False.\n",
            "  exec(code_obj, self.user_global_ns, self.user_ns)\n"
          ]
        },
        {
          "output_type": "execute_result",
          "data": {
            "text/plain": [
              "         Team  Season                Name  DL_length team_id player_id  Age  \\\n",
              "0   Nationals    2006          Ryan Drese         15     WAS  dresr001   30   \n",
              "1      Royals    2006  Runelvys Hernandez         15     KCA  hernr003   28   \n",
              "2        Cubs    2006          Kerry Wood         15     CHN  woodk002   29   \n",
              "3        Cubs    2006          Mark Prior         15     CHN  priom001   25   \n",
              "4    Phillies    2006        Chris Booker         15     PHI  bookc001   29   \n",
              "\n",
              "   W   L   ERA  ...  wSL_C_pi  wXX_C_pi  O_Swing_pct_pi  Z_Swing_pct_pi  \\\n",
              "0  0   2  5.19  ...       0.0       0.0             0.0             0.0   \n",
              "1  6  10  6.48  ...       0.0       0.0             0.0             0.0   \n",
              "2  1   2  4.12  ...       0.0       0.0             0.0             0.0   \n",
              "3  1   6  7.21  ...       0.0       0.0             0.0             0.0   \n",
              "4  0   0  9.72  ...       0.0       0.0             0.0             0.0   \n",
              "\n",
              "   Swing_pct_pi  O_Contact_pct_pi  Z_Contact_pct_pi  Contact_pct_pi  \\\n",
              "0           0.0               0.0               0.0             0.0   \n",
              "1           0.0               0.0               0.0             0.0   \n",
              "2           0.0               0.0               0.0             0.0   \n",
              "3           0.0               0.0               0.0             0.0   \n",
              "4           0.0               0.0               0.0             0.0   \n",
              "\n",
              "   Zone_pct_pi  Pace_pi  \n",
              "0          0.0      0.0  \n",
              "1          0.0      0.0  \n",
              "2          0.0      0.0  \n",
              "3          0.0      0.0  \n",
              "4          0.0      0.0  \n",
              "\n",
              "[5 rows x 302 columns]"
            ],
            "text/html": [
              "\n",
              "  <div id=\"df-bcb70c1f-3d0e-4ae4-aae2-0c07ab99c65f\">\n",
              "    <div class=\"colab-df-container\">\n",
              "      <div>\n",
              "<style scoped>\n",
              "    .dataframe tbody tr th:only-of-type {\n",
              "        vertical-align: middle;\n",
              "    }\n",
              "\n",
              "    .dataframe tbody tr th {\n",
              "        vertical-align: top;\n",
              "    }\n",
              "\n",
              "    .dataframe thead th {\n",
              "        text-align: right;\n",
              "    }\n",
              "</style>\n",
              "<table border=\"1\" class=\"dataframe\">\n",
              "  <thead>\n",
              "    <tr style=\"text-align: right;\">\n",
              "      <th></th>\n",
              "      <th>Team</th>\n",
              "      <th>Season</th>\n",
              "      <th>Name</th>\n",
              "      <th>DL_length</th>\n",
              "      <th>team_id</th>\n",
              "      <th>player_id</th>\n",
              "      <th>Age</th>\n",
              "      <th>W</th>\n",
              "      <th>L</th>\n",
              "      <th>ERA</th>\n",
              "      <th>...</th>\n",
              "      <th>wSL_C_pi</th>\n",
              "      <th>wXX_C_pi</th>\n",
              "      <th>O_Swing_pct_pi</th>\n",
              "      <th>Z_Swing_pct_pi</th>\n",
              "      <th>Swing_pct_pi</th>\n",
              "      <th>O_Contact_pct_pi</th>\n",
              "      <th>Z_Contact_pct_pi</th>\n",
              "      <th>Contact_pct_pi</th>\n",
              "      <th>Zone_pct_pi</th>\n",
              "      <th>Pace_pi</th>\n",
              "    </tr>\n",
              "  </thead>\n",
              "  <tbody>\n",
              "    <tr>\n",
              "      <th>0</th>\n",
              "      <td>Nationals</td>\n",
              "      <td>2006</td>\n",
              "      <td>Ryan Drese</td>\n",
              "      <td>15</td>\n",
              "      <td>WAS</td>\n",
              "      <td>dresr001</td>\n",
              "      <td>30</td>\n",
              "      <td>0</td>\n",
              "      <td>2</td>\n",
              "      <td>5.19</td>\n",
              "      <td>...</td>\n",
              "      <td>0.0</td>\n",
              "      <td>0.0</td>\n",
              "      <td>0.0</td>\n",
              "      <td>0.0</td>\n",
              "      <td>0.0</td>\n",
              "      <td>0.0</td>\n",
              "      <td>0.0</td>\n",
              "      <td>0.0</td>\n",
              "      <td>0.0</td>\n",
              "      <td>0.0</td>\n",
              "    </tr>\n",
              "    <tr>\n",
              "      <th>1</th>\n",
              "      <td>Royals</td>\n",
              "      <td>2006</td>\n",
              "      <td>Runelvys Hernandez</td>\n",
              "      <td>15</td>\n",
              "      <td>KCA</td>\n",
              "      <td>hernr003</td>\n",
              "      <td>28</td>\n",
              "      <td>6</td>\n",
              "      <td>10</td>\n",
              "      <td>6.48</td>\n",
              "      <td>...</td>\n",
              "      <td>0.0</td>\n",
              "      <td>0.0</td>\n",
              "      <td>0.0</td>\n",
              "      <td>0.0</td>\n",
              "      <td>0.0</td>\n",
              "      <td>0.0</td>\n",
              "      <td>0.0</td>\n",
              "      <td>0.0</td>\n",
              "      <td>0.0</td>\n",
              "      <td>0.0</td>\n",
              "    </tr>\n",
              "    <tr>\n",
              "      <th>2</th>\n",
              "      <td>Cubs</td>\n",
              "      <td>2006</td>\n",
              "      <td>Kerry Wood</td>\n",
              "      <td>15</td>\n",
              "      <td>CHN</td>\n",
              "      <td>woodk002</td>\n",
              "      <td>29</td>\n",
              "      <td>1</td>\n",
              "      <td>2</td>\n",
              "      <td>4.12</td>\n",
              "      <td>...</td>\n",
              "      <td>0.0</td>\n",
              "      <td>0.0</td>\n",
              "      <td>0.0</td>\n",
              "      <td>0.0</td>\n",
              "      <td>0.0</td>\n",
              "      <td>0.0</td>\n",
              "      <td>0.0</td>\n",
              "      <td>0.0</td>\n",
              "      <td>0.0</td>\n",
              "      <td>0.0</td>\n",
              "    </tr>\n",
              "    <tr>\n",
              "      <th>3</th>\n",
              "      <td>Cubs</td>\n",
              "      <td>2006</td>\n",
              "      <td>Mark Prior</td>\n",
              "      <td>15</td>\n",
              "      <td>CHN</td>\n",
              "      <td>priom001</td>\n",
              "      <td>25</td>\n",
              "      <td>1</td>\n",
              "      <td>6</td>\n",
              "      <td>7.21</td>\n",
              "      <td>...</td>\n",
              "      <td>0.0</td>\n",
              "      <td>0.0</td>\n",
              "      <td>0.0</td>\n",
              "      <td>0.0</td>\n",
              "      <td>0.0</td>\n",
              "      <td>0.0</td>\n",
              "      <td>0.0</td>\n",
              "      <td>0.0</td>\n",
              "      <td>0.0</td>\n",
              "      <td>0.0</td>\n",
              "    </tr>\n",
              "    <tr>\n",
              "      <th>4</th>\n",
              "      <td>Phillies</td>\n",
              "      <td>2006</td>\n",
              "      <td>Chris Booker</td>\n",
              "      <td>15</td>\n",
              "      <td>PHI</td>\n",
              "      <td>bookc001</td>\n",
              "      <td>29</td>\n",
              "      <td>0</td>\n",
              "      <td>0</td>\n",
              "      <td>9.72</td>\n",
              "      <td>...</td>\n",
              "      <td>0.0</td>\n",
              "      <td>0.0</td>\n",
              "      <td>0.0</td>\n",
              "      <td>0.0</td>\n",
              "      <td>0.0</td>\n",
              "      <td>0.0</td>\n",
              "      <td>0.0</td>\n",
              "      <td>0.0</td>\n",
              "      <td>0.0</td>\n",
              "      <td>0.0</td>\n",
              "    </tr>\n",
              "  </tbody>\n",
              "</table>\n",
              "<p>5 rows × 302 columns</p>\n",
              "</div>\n",
              "      <button class=\"colab-df-convert\" onclick=\"convertToInteractive('df-bcb70c1f-3d0e-4ae4-aae2-0c07ab99c65f')\"\n",
              "              title=\"Convert this dataframe to an interactive table.\"\n",
              "              style=\"display:none;\">\n",
              "        \n",
              "  <svg xmlns=\"http://www.w3.org/2000/svg\" height=\"24px\"viewBox=\"0 0 24 24\"\n",
              "       width=\"24px\">\n",
              "    <path d=\"M0 0h24v24H0V0z\" fill=\"none\"/>\n",
              "    <path d=\"M18.56 5.44l.94 2.06.94-2.06 2.06-.94-2.06-.94-.94-2.06-.94 2.06-2.06.94zm-11 1L8.5 8.5l.94-2.06 2.06-.94-2.06-.94L8.5 2.5l-.94 2.06-2.06.94zm10 10l.94 2.06.94-2.06 2.06-.94-2.06-.94-.94-2.06-.94 2.06-2.06.94z\"/><path d=\"M17.41 7.96l-1.37-1.37c-.4-.4-.92-.59-1.43-.59-.52 0-1.04.2-1.43.59L10.3 9.45l-7.72 7.72c-.78.78-.78 2.05 0 2.83L4 21.41c.39.39.9.59 1.41.59.51 0 1.02-.2 1.41-.59l7.78-7.78 2.81-2.81c.8-.78.8-2.07 0-2.86zM5.41 20L4 18.59l7.72-7.72 1.47 1.35L5.41 20z\"/>\n",
              "  </svg>\n",
              "      </button>\n",
              "      \n",
              "  <style>\n",
              "    .colab-df-container {\n",
              "      display:flex;\n",
              "      flex-wrap:wrap;\n",
              "      gap: 12px;\n",
              "    }\n",
              "\n",
              "    .colab-df-convert {\n",
              "      background-color: #E8F0FE;\n",
              "      border: none;\n",
              "      border-radius: 50%;\n",
              "      cursor: pointer;\n",
              "      display: none;\n",
              "      fill: #1967D2;\n",
              "      height: 32px;\n",
              "      padding: 0 0 0 0;\n",
              "      width: 32px;\n",
              "    }\n",
              "\n",
              "    .colab-df-convert:hover {\n",
              "      background-color: #E2EBFA;\n",
              "      box-shadow: 0px 1px 2px rgba(60, 64, 67, 0.3), 0px 1px 3px 1px rgba(60, 64, 67, 0.15);\n",
              "      fill: #174EA6;\n",
              "    }\n",
              "\n",
              "    [theme=dark] .colab-df-convert {\n",
              "      background-color: #3B4455;\n",
              "      fill: #D2E3FC;\n",
              "    }\n",
              "\n",
              "    [theme=dark] .colab-df-convert:hover {\n",
              "      background-color: #434B5C;\n",
              "      box-shadow: 0px 1px 3px 1px rgba(0, 0, 0, 0.15);\n",
              "      filter: drop-shadow(0px 1px 2px rgba(0, 0, 0, 0.3));\n",
              "      fill: #FFFFFF;\n",
              "    }\n",
              "  </style>\n",
              "\n",
              "      <script>\n",
              "        const buttonEl =\n",
              "          document.querySelector('#df-bcb70c1f-3d0e-4ae4-aae2-0c07ab99c65f button.colab-df-convert');\n",
              "        buttonEl.style.display =\n",
              "          google.colab.kernel.accessAllowed ? 'block' : 'none';\n",
              "\n",
              "        async function convertToInteractive(key) {\n",
              "          const element = document.querySelector('#df-bcb70c1f-3d0e-4ae4-aae2-0c07ab99c65f');\n",
              "          const dataTable =\n",
              "            await google.colab.kernel.invokeFunction('convertToInteractive',\n",
              "                                                     [key], {});\n",
              "          if (!dataTable) return;\n",
              "\n",
              "          const docLinkHtml = 'Like what you see? Visit the ' +\n",
              "            '<a target=\"_blank\" href=https://colab.research.google.com/notebooks/data_table.ipynb>data table notebook</a>'\n",
              "            + ' to learn more about interactive tables.';\n",
              "          element.innerHTML = '';\n",
              "          dataTable['output_type'] = 'display_data';\n",
              "          await google.colab.output.renderOutput(dataTable, element);\n",
              "          const docLink = document.createElement('div');\n",
              "          docLink.innerHTML = docLinkHtml;\n",
              "          element.appendChild(docLink);\n",
              "        }\n",
              "      </script>\n",
              "    </div>\n",
              "  </div>\n",
              "  "
            ]
          },
          "metadata": {},
          "execution_count": 17
        }
      ]
    },
    {
      "cell_type": "code",
      "source": [
        "df['DL_length'] = df['DL_length'].replace(15, 1)\n",
        "df['DL_length'] = df['DL_length'].replace(60, 1)\n",
        "df['DL_length'] = df['DL_length'].replace(7, 1)\n",
        "df['DL_length'] = df['DL_length'].replace(10, 1)"
      ],
      "metadata": {
        "id": "Gj-xKdK29sBk"
      },
      "execution_count": null,
      "outputs": []
    },
    {
      "cell_type": "code",
      "source": [
        ""
      ],
      "metadata": {
        "id": "QRzhGrCMW0VQ"
      },
      "execution_count": null,
      "outputs": []
    },
    {
      "cell_type": "code",
      "source": [
        "df.rename(columns={'DL_length': 'injured'}, inplace=True)"
      ],
      "metadata": {
        "id": "TakoO76g-EW_"
      },
      "execution_count": null,
      "outputs": []
    },
    {
      "cell_type": "code",
      "source": [
        "Player_info=df[[\"Season\",\"Name\",\"injured\"]]\n",
        "Player_info_train=Player_info[Player_info['Season'] <= 2019]\n",
        "Player_info_vali=Player_info[Player_info[\"Season\"]==2020]\n",
        "Player_info_test=Player_info[Player_info[\"Season\"]==2021]"
      ],
      "metadata": {
        "id": "dwyrjL3S98M5"
      },
      "execution_count": null,
      "outputs": []
    },
    {
      "cell_type": "code",
      "source": [
        "df.groupby([\"Season\", \"injured\"]).size()"
      ],
      "metadata": {
        "colab": {
          "base_uri": "https://localhost:8080/"
        },
        "id": "uXl3yHwF-K7T",
        "outputId": "a69e18ec-9402-4acc-fc61-01fd2db3387c"
      },
      "execution_count": null,
      "outputs": [
        {
          "output_type": "execute_result",
          "data": {
            "text/plain": [
              "Season  injured\n",
              "2006    0          171\n",
              "        1          231\n",
              "2007    0          195\n",
              "        1          257\n",
              "2008    0          181\n",
              "        1          256\n",
              "2009    0          188\n",
              "        1          250\n",
              "2010    0          164\n",
              "        1          223\n",
              "2011    0          184\n",
              "        1          251\n",
              "2012    0          178\n",
              "        1          237\n",
              "2013    0          187\n",
              "        1          251\n",
              "2014    0          187\n",
              "        1          220\n",
              "2015    0          205\n",
              "        1          278\n",
              "2016    0          200\n",
              "        1          304\n",
              "2017    0          200\n",
              "        1          370\n",
              "2018    0          213\n",
              "        1          419\n",
              "2019    0          233\n",
              "        1          432\n",
              "2020    0          216\n",
              "        1          290\n",
              "2021    0          338\n",
              "        1          724\n",
              "dtype: int64"
            ]
          },
          "metadata": {},
          "execution_count": 21
        }
      ]
    },
    {
      "cell_type": "code",
      "source": [
        "import seaborn as sns\n",
        "sns.kdeplot(data=df, x=\"Season\", hue=\"injured\", multiple=\"stack\")\n"
      ],
      "metadata": {
        "colab": {
          "base_uri": "https://localhost:8080/",
          "height": 296
        },
        "id": "7NsFNVtGBF7i",
        "outputId": "05cd24eb-798c-40a1-b653-c50b3697475a"
      },
      "execution_count": null,
      "outputs": [
        {
          "output_type": "execute_result",
          "data": {
            "text/plain": [
              "<matplotlib.axes._subplots.AxesSubplot at 0x7f4467d55f50>"
            ]
          },
          "metadata": {},
          "execution_count": 22
        },
        {
          "output_type": "display_data",
          "data": {
            "text/plain": [
              "<Figure size 432x288 with 1 Axes>"
            ],
            "image/png": "[encoded data removed]"
          },
          "metadata": {
            "needs_background": "light"
          }
        }
      ]
    },
    {
      "cell_type": "code",
      "source": [
        "df_2=df.drop([\"Name\",\"Team\",\"team_id\",\"player_id\",\"Dollars\",\"Age_Rng\"],axis=1)"
      ],
      "metadata": {
        "id": "Pv0-DRkm5uoi"
      },
      "execution_count": null,
      "outputs": []
    },
    {
      "cell_type": "markdown",
      "source": [
        "##PCA\n"
      ],
      "metadata": {
        "id": "ExVAzsT5-7YA"
      }
    },
    {
      "cell_type": "code",
      "source": [
        "from sklearn.preprocessing import StandardScaler\n",
        "from sklearn.decomposition import PCA\n",
        "df_transform=df_2.drop([\"injured\"],axis=1)\n",
        "df_transform = StandardScaler().fit_transform(df_2)\n",
        "pca = PCA(n_components=0.99).fit(df_transform)\n",
        "new_df = pca.transform(df_transform)\n",
        "var_exp = pca.explained_variance_ratio_"
      ],
      "metadata": {
        "id": "w95TwSfS-1hl"
      },
      "execution_count": null,
      "outputs": []
    },
    {
      "cell_type": "code",
      "source": [
        "import matplotlib.pyplot as plt\n",
        "\n",
        "plt.plot(range(1, len(var_exp) + 1), var_exp.cumsum())\n",
        "plt.title('Cumulative sum of explained variance', fontsize=16)\n",
        "plt.xlabel('Components')\n",
        "plt.ylabel('Percentage (%)')\n",
        "plt.show()"
      ],
      "metadata": {
        "colab": {
          "base_uri": "https://localhost:8080/",
          "height": 297
        },
        "id": "lovm4VmTDfBb",
        "outputId": "babc5eaf-bba3-4328-a4b2-455b67b73705"
      },
      "execution_count": null,
      "outputs": [
        {
          "output_type": "display_data",
          "data": {
            "text/plain": [
              "<Figure size 432x288 with 1 Axes>"
            ],
            "image/png": "[encoded data removed]"
          },
          "metadata": {
            "needs_background": "light"
          }
        }
      ]
    },
    {
      "cell_type": "markdown",
      "source": [
        "## SPLIT"
      ],
      "metadata": {
        "id": "QNpOREbn80iY"
      }
    },
    {
      "cell_type": "code",
      "source": [
        "train = df_2[df_2['Season'] <= 2019]\n",
        "validation= df_2[(df_2[\"Season\"] == 2020)]\n",
        "test= df_2[df_2[\"Season\"]==2021]"
      ],
      "metadata": {
        "id": "HSgwPC54NYUk"
      },
      "execution_count": null,
      "outputs": []
    },
    {
      "cell_type": "code",
      "source": [
        "### select features that have high importance level \n",
        "#split dataset with train,test,validation set based on Seasons\n",
        "train = df_2[df_2['Season'] <= 2019]\n",
        "validation= df_2[(df_2[\"Season\"] == 2020)]\n",
        "test= df_2[df_2[\"Season\"]==2021]\n",
        "#define X and Y\n",
        "X_train=train.drop(['injured'], axis = 1)\n",
        "X_test=test.drop(['injured'], axis = 1)\n",
        "X_vali=validation.drop(['injured'], axis = 1)\n",
        "Y_train=train['injured']\n",
        "Y_test=test['injured']\n",
        "Y_vali=validation['injured']"
      ],
      "metadata": {
        "id": "LIMqjbLS-T3I"
      },
      "execution_count": null,
      "outputs": []
    },
    {
      "cell_type": "code",
      "source": [
        "test.injured.value_counts()"
      ],
      "metadata": {
        "colab": {
          "base_uri": "https://localhost:8080/"
        },
        "id": "LTtsx_BbP1eY",
        "outputId": "93731315-1ad1-45dc-8d16-cc0d843abab0"
      },
      "execution_count": null,
      "outputs": [
        {
          "output_type": "execute_result",
          "data": {
            "text/plain": [
              "1    724\n",
              "0    338\n",
              "Name: injured, dtype: int64"
            ]
          },
          "metadata": {},
          "execution_count": 26
        }
      ]
    },
    {
      "cell_type": "markdown",
      "source": [
        "##model"
      ],
      "metadata": {
        "id": "WveazgByNSca"
      }
    },
    {
      "cell_type": "code",
      "source": [
        "from sklearn.metrics import f1_score\n",
        "from sklearn.metrics import accuracy_score\n",
        "from sklearn.metrics import precision_score\n",
        "from sklearn.ensemble import RandomForestClassifier\n",
        "from sklearn.metrics import roc_auc_score\n",
        "\n",
        "randomforest_model = RandomForestClassifier()\n",
        "randomforest_model.fit(X_train, Y_train)\n",
        "\n",
        "predictions = randomforest_model.predict(X_vali)\n",
        "\n",
        "actuals = Y_vali\n",
        "\n",
        "print(confusion_matrix(actuals, predictions))\n",
        "print(\"accuracy_score:\", accuracy_score(actuals, predictions))\n",
        "print(\"Precision_score:\", precision_score(actuals, predictions))\n",
        "print(\"F1_score:\", f1_score(actuals, predictions))\n",
        "print(\"Roc_acu\", roc_auc_score(actuals, randomforest_model.predict_proba(X_vali)[:, 1]))"
      ],
      "metadata": {
        "colab": {
          "base_uri": "https://localhost:8080/"
        },
        "id": "CO_3KNjnKbKG",
        "outputId": "35972ef5-b33e-42ac-cd99-f5dbdeee6ed4"
      },
      "execution_count": null,
      "outputs": [
        {
          "output_type": "stream",
          "name": "stdout",
          "text": [
            "[[127  89]\n",
            " [128 162]]\n",
            "accuracy_score: 0.5711462450592886\n",
            "Precision_score: 0.6454183266932271\n",
            "F1_score: 0.5988909426987061\n",
            "Roc_acu 0.5849217752234993\n"
          ]
        }
      ]
    },
    {
      "cell_type": "code",
      "source": [
        "from sklearn.linear_model import LogisticRegression\n",
        "LR_model = LogisticRegression()\n",
        "LR_model.fit(X_train, Y_train)\n",
        "\n",
        "predictions = LR_model.predict(X_vali)\n",
        "\n",
        "actuals = Y_vali\n",
        "\n",
        "print(confusion_matrix(actuals, predictions))\n",
        "print(\"accuracy_score:\", accuracy_score(actuals, predictions))\n",
        "print(\"Precision_score:\", precision_score(actuals, predictions))\n",
        "print(\"F1_score:\", f1_score(actuals, predictions))\n",
        "print(\"Roc_acu\", roc_auc_score(actuals, LR_model.predict_proba(X_vali)[:, 1]))"
      ],
      "metadata": {
        "colab": {
          "base_uri": "https://localhost:8080/"
        },
        "id": "f8RV8fzTLKss",
        "outputId": "65473644-ec43-4e77-919d-d0bcf4e867ef"
      },
      "execution_count": null,
      "outputs": [
        {
          "output_type": "stream",
          "name": "stdout",
          "text": [
            "[[ 66 150]\n",
            " [ 58 232]]\n",
            "accuracy_score: 0.5889328063241107\n",
            "Precision_score: 0.6073298429319371\n",
            "F1_score: 0.6904761904761905\n",
            "Roc_acu 0.610265006385696\n"
          ]
        },
        {
          "output_type": "stream",
          "name": "stderr",
          "text": [
            "/usr/local/lib/python3.7/dist-packages/sklearn/linear_model/_logistic.py:818: ConvergenceWarning: lbfgs failed to converge (status=1):\n",
            "STOP: TOTAL NO. of ITERATIONS REACHED LIMIT.\n",
            "\n",
            "Increase the number of iterations (max_iter) or scale the data as shown in:\n",
            "    https://scikit-learn.org/stable/modules/preprocessing.html\n",
            "Please also refer to the documentation for alternative solver options:\n",
            "    https://scikit-learn.org/stable/modules/linear_model.html#logistic-regression\n",
            "  extra_warning_msg=_LOGISTIC_SOLVER_CONVERGENCE_MSG,\n"
          ]
        }
      ]
    },
    {
      "cell_type": "code",
      "source": [
        "from xgboost import XGBClassifier\n",
        "import xgboost as xgb\n",
        "\n",
        "xgb_model = XGBClassifier().fit(X_train, Y_train)\n",
        "\n",
        "predictions = xgb_model.predict(X_vali)\n",
        "\n",
        "actuals = Y_vali\n",
        "\n",
        "print(confusion_matrix(actuals, predictions))\n",
        "print(\"accuracy_score:\", accuracy_score(actuals, predictions))\n",
        "print(\"Precision_score:\", precision_score(actuals, predictions))\n",
        "print(\"F1_score:\", f1_score(actuals, predictions))\n",
        "print(\"Roc_acu\", roc_auc_score(actuals, xgb_model.predict_proba(X_vali)[:, 1]))"
      ],
      "metadata": {
        "colab": {
          "base_uri": "https://localhost:8080/"
        },
        "id": "AVnZvpgQLqNf",
        "outputId": "15843de5-0ab4-4bab-b4ff-43b456fc3a24"
      },
      "execution_count": null,
      "outputs": [
        {
          "output_type": "stream",
          "name": "stdout",
          "text": [
            "[[ 97 119]\n",
            " [ 73 217]]\n",
            "accuracy_score: 0.6205533596837944\n",
            "Precision_score: 0.6458333333333334\n",
            "F1_score: 0.6932907348242812\n",
            "Roc_acu 0.634227330779055\n"
          ]
        }
      ]
    },
    {
      "cell_type": "code",
      "source": [
        "from sklearn.naive_bayes import MultinomialNB, GaussianNB\n",
        "\n",
        "mnb=GaussianNB()\n",
        "mnb_model = mnb.fit(X_train, Y_train)\n",
        "predictions = mnb_model.predict(X_vali)\n",
        "\n",
        "actuals = Y_vali\n",
        "\n",
        "print(confusion_matrix(actuals, predictions))\n",
        "print(\"accuracy_score:\", accuracy_score(actuals, predictions))\n",
        "print(\"Precision_score:\", precision_score(actuals, predictions))\n",
        "print(\"F1_score:\", f1_score(actuals, predictions))\n",
        "print(\"Roc_acu\", roc_auc_score(actuals, mnb_model.predict_proba(X_vali)[:, 1]))"
      ],
      "metadata": {
        "colab": {
          "base_uri": "https://localhost:8080/"
        },
        "id": "LWSvbBz2Rk6D",
        "outputId": "31f52eef-a65e-4a9c-d46c-95a50b20dab2"
      },
      "execution_count": null,
      "outputs": [
        {
          "output_type": "stream",
          "name": "stdout",
          "text": [
            "[[179  37]\n",
            " [218  72]]\n",
            "accuracy_score: 0.49604743083003955\n",
            "Precision_score: 0.6605504587155964\n",
            "F1_score: 0.3609022556390977\n",
            "Roc_acu 0.528719667943806\n"
          ]
        }
      ]
    },
    {
      "cell_type": "code",
      "source": [
        "from sklearn.neural_network import MLPClassifier\n",
        "mlp=MLPClassifier()\n",
        "mlp_model = mlp.fit(X_train, Y_train)\n",
        "predictions = mlp_model.predict(X_vali)\n",
        "\n",
        "actuals = Y_vali\n",
        "\n",
        "print(confusion_matrix(actuals, predictions))\n",
        "print(\"accuracy_score:\", accuracy_score(actuals, predictions))\n",
        "print(\"Precision_score:\", precision_score(actuals, predictions))\n",
        "print(\"F1_score:\", f1_score(actuals, predictions))\n",
        "print(\"Roc_acu\", roc_auc_score(actuals, mlp_model.predict_proba(X_vali)[:, 1]))"
      ],
      "metadata": {
        "colab": {
          "base_uri": "https://localhost:8080/"
        },
        "id": "GFh5ovr6RmaA",
        "outputId": "385bc183-a224-4634-f7b8-278cc1e89d2a"
      },
      "execution_count": null,
      "outputs": [
        {
          "output_type": "stream",
          "name": "stdout",
          "text": [
            "[[ 25 191]\n",
            " [ 20 270]]\n",
            "accuracy_score: 0.5830039525691699\n",
            "Precision_score: 0.5856832971800434\n",
            "F1_score: 0.7190412782956059\n",
            "Roc_acu 0.524074074074074\n"
          ]
        }
      ]
    },
    {
      "cell_type": "code",
      "source": [
        "from numpy import positive\n",
        "from sklearn.model_selection import GridSearchCV\n",
        "from sklearn.svm import LinearSVC, SVC\n",
        "svm=SVC(probability=True)\n",
        "svm_model = svm.fit(X_train, Y_train)\n",
        "predictions = svm_model.predict(X_vali)\n",
        "\n",
        "actuals = Y_vali\n",
        "\n",
        "print(confusion_matrix(actuals, predictions))\n",
        "print(\"accuracy_score:\", accuracy_score(actuals, predictions))\n",
        "print(\"Precision_score:\", precision_score(actuals, predictions))\n",
        "print(\"F1_score:\", f1_score(actuals, predictions))\n",
        "print(\"Roc_acu\", roc_auc_score(actuals, svm_model.predict_proba(X_vali)[:, 1]))"
      ],
      "metadata": {
        "colab": {
          "base_uri": "https://localhost:8080/"
        },
        "id": "SmMwc674R1sW",
        "outputId": "ad7a6fcb-c594-4520-d802-45c7fc1293a8"
      },
      "execution_count": null,
      "outputs": [
        {
          "output_type": "stream",
          "name": "stdout",
          "text": [
            "[[107 109]\n",
            " [146 144]]\n",
            "accuracy_score: 0.49604743083003955\n",
            "Precision_score: 0.5691699604743083\n",
            "F1_score: 0.5303867403314918\n",
            "Roc_acu 0.5049169859514686\n"
          ]
        }
      ]
    },
    {
      "cell_type": "code",
      "source": [
        ""
      ],
      "metadata": {
        "id": "a9f3OjAWTB1e"
      },
      "execution_count": null,
      "outputs": []
    }
  ]
}